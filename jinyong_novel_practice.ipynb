{
 "cells": [
  {
   "cell_type": "code",
   "execution_count": null,
   "id": "0ec75821",
   "metadata": {},
   "outputs": [],
   "source": [
    "# selector : div.epub.ui-collapsible h2.ui-collapsible-heading a"
   ]
  },
  {
   "cell_type": "code",
   "execution_count": 6,
   "id": "36a7518a",
   "metadata": {},
   "outputs": [],
   "source": [
    "import json, os, pprint, time, re\n",
    "from pprint import pprint as pp\n",
    "from urllib import parse\n",
    "import requests as req\n",
    "from bs4 import BeautifulSoup as bs"
   ]
  },
  {
   "cell_type": "code",
   "execution_count": 13,
   "id": "a1b7d67d",
   "metadata": {},
   "outputs": [
    {
     "name": "stdout",
     "output_type": "stream",
     "text": [
      "Mozilla/5.0 (Windows NT 6.1; WOW64) AppleWebKit/537.36 (KHTML, like Gecko) Chrome/29.0.1547.62 Safari/537.36\n"
     ]
    }
   ],
   "source": [
    "# 隨機取得user agent\n",
    "from fake_useragent import UserAgent\n",
    "ua = UserAgent(cache=True)\n",
    "\n",
    "print(ua.random)"
   ]
  },
  {
   "cell_type": "code",
   "execution_count": 61,
   "id": "f657a43e",
   "metadata": {},
   "outputs": [],
   "source": [
    "'''放置 金庸小說 metadata 的資訊'''\n",
    "listData = []\n",
    "\n",
    "'''小庸小說的網址'''\n",
    "url = 'https://www.bookwormzz.com/zh/'\n",
    "\n",
    "'''設定標頭'''\n",
    "my_headers = {\n",
    "    'user-agent': ua.random\n",
    "}\n",
    "\n",
    "# 沒有放置 txt 檔的資料夾，就建立起來\n",
    "folderPath = 'jinyong'\n",
    "if not os.path.exists(folderPath):\n",
    "    os.makedirs(folderPath)\n",
    "\n",
    "# 取得小說#book_toc目錄頁的超連結\n",
    "def getMainLinks():\n",
    "    response = req.get(url, headers = my_headers)\n",
    "    soup = bs(response.text, 'lxml')\n",
    "# 所有a的超連結，是一個集合list\n",
    "    a_elements = soup.select('a[data-ajax=\"false\"]')\n",
    "    for a in a_elements:\n",
    "        mainUrl = {\n",
    "            \"title\":a.get_text(),\n",
    "            \"link\":url + parse.unquote(a.get(\"href\")) + \"#book_toc\"\n",
    "        }\n",
    "        listData.append(mainUrl)\n",
    "    pp(listData)\n",
    "\n",
    "# 取得目錄頁中所有超連結\n",
    "def getSubLink():\n",
    "    for i in range(len(listData)):\n",
    "        #沒有sub屬性，則建立為了放置各本小說中的章回資訊\n",
    "        if \"sub\" not in listData[i]:\n",
    "            listData[i][\"sub\"] = []\n",
    "        response = req.get(listData[i]['link'],headers = my_headers)\n",
    "        soup = bs(response.text, 'lxml')\n",
    "        a_elements = soup.select('div[data-theme=\"b\"][data-content-theme=\"c\"] a[rel=\"external\"]')\n",
    "        # 若是走訪網頁時，選擇不到特定的元素，視為沒有資料，使用continue\n",
    "        if len(a_elements) > 0:\n",
    "            \n",
    "            for a in a_elements:\n",
    "                subUrl = {\n",
    "                    \"title\":a.get_text(),\n",
    "                    \"sub_link\":url + parse.unquote(a.get(\"href\"))\n",
    "                }\n",
    "                listData[i][\"sub\"].append(subUrl)\n",
    "        else:\n",
    "            continue\n",
    "    pp(listData)\n",
    "# 建立金庸小說的json檔\n",
    "def saveJson():\n",
    "    fp = open(f\"{folderPath}/jinyong.json\", \"w\", encoding=\"utf-8\")\n",
    "    fp.write(json.dumps(listData, ensure_ascii=False, indent=4)) # 儲存單純中文\n",
    "    fp.close()\n",
    "    \n",
    "# 將金庸小說所有章回的內容，各自寫到txt與json中\n",
    "def writeTxt():\n",
    "    # 稍後建立train.json前的程式變數\n",
    "    listContent = []\n",
    "    \n",
    "    # 開啟金庸小說json檔\n",
    "    fp = open(f\"{folderPath}/jinyong.json\", \"r\", encoding=\"utf-8\")\n",
    "    strJson = fp.read()\n",
    "    fp.close()\n",
    "    \n",
    "    #如果沒有放置txt檔的資料夾就建立起來\n",
    "    folderPath_text = f\"{folderPath}/jinyong_txt_reading_version\"\n",
    "    if not os.path.exists(folderPath_text):\n",
    "        os.makedirs(folderPath_text)\n",
    "        \n",
    "    # 走訪所有章回小說的文字內容\n",
    "    listResult = json.loads(strJson)\n",
    "    for i in range(len(listResult)):\n",
    "        for j in range(len(listResult[i]['sub'])):\n",
    "            response = req.get(listResult[i]['sub'][j]['sub_link'], headers=my_headers)\n",
    "            soup = bs(response.text, 'lxml')\n",
    "            div = soup.select_one('div#html > div')\n",
    "            strContent = div.get_text()\n",
    "            \n",
    "            # 取代不必要的符號及文字\n",
    "            #strContent = re.sub(r\"\\s|\\r|\\n|　| \",\"\", strContent)\n",
    "            strContent = re.sub(r\"\\s|\\r|　| \",\"\\n\", strContent)\n",
    "            \n",
    "            # 決定txt檔案名稱 e.g.,金庸《射鵰英雄傳一》_第一回 風雪驚變.txt\n",
    "            fileName = f\"{listResult[i]['title']}_{listResult[i]['sub'][j]['title']}.txt\"\n",
    "            \n",
    "            # 將小說內容存到txt中\n",
    "            fp = open(f\"{folderPath_text}/{fileName}\", \"w\", encoding=\"utf-8\")\n",
    "            fp.write(strContent)\n",
    "            fp.close()\n",
    "            \n",
    "            # 額外將小說內容放到list當中，建立train.json\n",
    "            listContent.append(strContent)\n",
    "    \n",
    "    # 延伸之後的議題，在此建立訓練資料\n",
    "    fp = open(f\"{folderPath}/train.json\", \"w\", encoding=\"utf-8\")\n",
    "    fp.write = (json.dumps(listContent, ensure_ascii=False, indent=4))\n",
    "    fp.close()\n",
    "    "
   ]
  },
  {
   "cell_type": "code",
   "execution_count": 62,
   "id": "b34e1b65",
   "metadata": {},
   "outputs": [
    {
     "name": "stdout",
     "output_type": "stream",
     "text": [
      "執行總花費時間:347.1872470378876秒\n"
     ]
    }
   ],
   "source": [
    "if __name__ == \"__main__\":\n",
    "    #getMainLinks()\n",
    "    #getSubLink()\n",
    "    #saveJson()\n",
    "    time1 = time.time()\n",
    "    writeTxt()\n",
    "    print(f\"執行總花費時間:{time.time()-time1}秒\")"
   ]
  },
  {
   "cell_type": "code",
   "execution_count": 58,
   "id": "e26f36cf",
   "metadata": {},
   "outputs": [],
   "source": [
    "folderPath = 'test_novel'\n",
    "if not os.path.exists(folderPath):\n",
    "    os.makedirs(folderPath)\n",
    "fp = open(f\"jinyong/jinyong.json\", \"r\", encoding=\"utf-8\")\n",
    "strJson = fp.read()\n",
    "fp.close()\n",
    "listResult = json.loads(strJson)\n",
    "single_response = req.get(listResult[0]['sub'][0]['sub_link'], headers=my_headers)\n",
    "\n",
    "soup = bs(single_response.text, 'lxml')\n",
    "div = soup.select_one('div#html > div')\n",
    "strContent = div.get_text()\n",
    "strContent = re.sub(r\"\\s|\\r|　| \",\"\\n\", strContent)\n",
    "\n",
    "fileName = f\"{listResult[0]['title']}_{listResult[0]['sub'][0]['title']}.txt\"\n",
    "\n",
    "fp = open(f\"test_novel/{fileName}\", \"w\", encoding=\"utf-8\")\n",
    "fp.write(strContent)\n",
    "fp.close()"
   ]
  },
  {
   "cell_type": "code",
   "execution_count": null,
   "id": "072fcff0",
   "metadata": {},
   "outputs": [],
   "source": []
  }
 ],
 "metadata": {
  "kernelspec": {
   "display_name": "Python 3 (ipykernel)",
   "language": "python",
   "name": "python3"
  },
  "language_info": {
   "codemirror_mode": {
    "name": "ipython",
    "version": 3
   },
   "file_extension": ".py",
   "mimetype": "text/x-python",
   "name": "python",
   "nbconvert_exporter": "python",
   "pygments_lexer": "ipython3",
   "version": "3.9.12"
  }
 },
 "nbformat": 4,
 "nbformat_minor": 5
}
